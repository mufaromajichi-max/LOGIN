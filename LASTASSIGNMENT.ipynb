{
 "cells": [
  {
   "cell_type": "code",
   "execution_count": null,
   "id": "0429a8cc-a7c2-42fe-8f79-f73a91aa4ed4",
   "metadata": {},
   "outputs": [],
   "source": [
    "username = input(\"Enter username\")\n",
    "password = input(\"Enter password\")\n",
    "if username == \"MUFARO\" and password == \"124\":\n",
    "    print(\"login successful\")\n",
    "else:\n",
    "    print(\"invalid requirements hence login invalid\")"
   ]
  },
  {
   "cell_type": "code",
   "execution_count": null,
   "id": "6fb29e52-2bc0-4ae6-8e3f-edb1c5555f0a",
   "metadata": {},
   "outputs": [],
   "source": []
  }
 ],
 "metadata": {
  "kernelspec": {
   "display_name": "Python [conda env:base] *",
   "language": "python",
   "name": "conda-base-py"
  },
  "language_info": {
   "codemirror_mode": {
    "name": "ipython",
    "version": 3
   },
   "file_extension": ".py",
   "mimetype": "text/x-python",
   "name": "python",
   "nbconvert_exporter": "python",
   "pygments_lexer": "ipython3",
   "version": "3.13.5"
  }
 },
 "nbformat": 4,
 "nbformat_minor": 5
}
